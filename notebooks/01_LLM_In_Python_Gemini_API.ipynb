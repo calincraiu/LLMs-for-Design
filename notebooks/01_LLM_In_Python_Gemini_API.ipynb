{
 "cells": [
  {
   "cell_type": "markdown",
   "metadata": {},
   "source": [
    "# Using LLMs in Python"
   ]
  },
  {
   "cell_type": "markdown",
   "metadata": {},
   "source": []
  },
  {
   "cell_type": "code",
   "execution_count": 1,
   "metadata": {},
   "outputs": [],
   "source": [
    "import os\n",
    "\n",
    "import dotenv\n",
    "import PIL.Image\n",
    "\n",
    "import google.generativeai as genai"
   ]
  },
  {
   "cell_type": "code",
   "execution_count": 2,
   "metadata": {},
   "outputs": [
    {
     "name": "stdout",
     "output_type": "stream",
     "text": [
      "Loaded environment variables.\n"
     ]
    }
   ],
   "source": [
    "loaded: bool = dotenv.load_dotenv()\n",
    "print(\"Loaded environment variables.\" if loaded else \"Could not load environment variables.\")"
   ]
  },
  {
   "cell_type": "code",
   "execution_count": 3,
   "metadata": {},
   "outputs": [],
   "source": [
    "GEMINI_API_KEY = os.getenv('GEMINI_API_KEY')\n",
    "genai.configure(api_key=GEMINI_API_KEY)"
   ]
  },
  {
   "cell_type": "code",
   "execution_count": 4,
   "metadata": {},
   "outputs": [
    {
     "name": "stdout",
     "output_type": "stream",
     "text": [
      "Model name: models/gemini-1.5-flash\n",
      "Model version: 001\n",
      "Input token limit: 1000000\n",
      "Output token limit: 8192\n"
     ]
    }
   ],
   "source": [
    "model_type = 'models/gemini-1.5-flash'\n",
    "model = genai.GenerativeModel(model_type)\n",
    "model_info = genai.get_model(model_type)\n",
    "print(f\"Model name: {model_info.name}\\nModel version: {model_info.version}\\nInput token limit: {model_info.input_token_limit}\\nOutput token limit: {model_info.output_token_limit}\")"
   ]
  },
  {
   "cell_type": "code",
   "execution_count": 5,
   "metadata": {},
   "outputs": [
    {
     "data": {
      "text/plain": [
       "total_tokens: 23"
      ]
     },
     "execution_count": 5,
     "metadata": {},
     "output_type": "execute_result"
    }
   ],
   "source": [
    "# Counting tokens\n",
    "prompt = \"I want to design a building facade that helps with carbon-capture and fits in with the aesthetic of central London.\"\n",
    "model.count_tokens(prompt)"
   ]
  },
  {
   "cell_type": "code",
   "execution_count": 6,
   "metadata": {},
   "outputs": [
    {
     "name": "stdout",
     "output_type": "stream",
     "text": [
      "##  A Central London Facade for Carbon Capture:\n",
      "\n",
      "Here are some ideas for a building facade in central London that integrates carbon capture and fits seamlessly with the existing aesthetic:\n",
      "\n",
      "**1. \"Green Wall\" Facade:**\n",
      "\n",
      "* **Aesthetic:** Mimic traditional London brickwork with variations in colour and texture to create depth. Integrate vertical gardens with native plants and vines.\n",
      "* **Carbon Capture:** Use biofilters within the green wall system to absorb CO2. The plants act as living filters, while specialized materials and microorganisms in the filters further enhance carbon capture.\n",
      "* **Integration:** Incorporate solar panels cleverly into the facade's design, perhaps hidden behind the plants or integrated into the brickwork.  \n",
      "* **Example:** The \"GreenPix\" building in London, which incorporates a large green wall and solar panels, could be a source of inspiration.\n",
      "\n",
      "**2. \"Air Purifier\" Facade:**\n",
      "\n",
      "* **Aesthetic:** Use traditional materials like limestone or sandstone, but with a more contemporary take on the classic London facade. Incorporate large windows for natural light and ventilation.\n",
      "* **Carbon Capture:** Install air filtration systems within the facade itself, perhaps in the form of \"breathing\" panels that draw in air, filter it, and release clean air back into the environment.\n",
      "* **Integration:** Incorporate smart sensors that automatically adjust the filtration system based on air quality levels.\n",
      "* **Example:** The \"Building of the Future\" project in Copenhagen, which features an innovative facade with integrated air filtration systems, could serve as a model.\n",
      "\n",
      "**3. \"Solar-Powered\" Facade:**\n",
      "\n",
      "* **Aesthetic:**  Create a modern, geometric design with a strong focus on light and transparency. Use glass and metal materials for a clean, contemporary look.\n",
      "* **Carbon Capture:**  Integrate photovoltaic panels into the facade's design, hidden within the glass or metal panels. Use the generated electricity to power an air filtration system or carbon capture technology.\n",
      "* **Integration:**  Design the facade with a dynamic, responsive system that adjusts the angle of the panels to maximize solar energy capture throughout the day.\n",
      "* **Example:**  The \"Crystal\" building in London, with its innovative use of solar panels and sustainable design, offers inspiration for this approach.\n",
      "\n",
      "**Additional considerations:**\n",
      "\n",
      "* **Material Choice:** Opt for sustainable and locally sourced materials, such as reclaimed brick or sustainably harvested timber, to minimize the environmental impact of construction.\n",
      "* **Transparency and Engagement:**  Make the building's carbon-capture technology visible and easily understood by the public. This can be achieved through interactive displays, signage, or tours.\n",
      "* **Local Context:**  Consider the specific character of the street and surrounding buildings when designing the facade.\n",
      "* **Collaboration:** Work with architects, engineers, and sustainability experts to develop a holistic design approach that integrates carbon capture technology seamlessly.\n",
      "\n",
      "By combining innovative technology with London's rich architectural heritage, you can create a building facade that not only captures carbon but also contributes to a more sustainable and beautiful city.\n"
     ]
    }
   ],
   "source": [
    "# Prompting\n",
    "response = model.generate_content(prompt)\n",
    "print(response.text)"
   ]
  },
  {
   "cell_type": "markdown",
   "metadata": {},
   "source": [
    "### Using LangChain"
   ]
  },
  {
   "cell_type": "markdown",
   "metadata": {},
   "source": [
    "[Langchain](https://python.langchain.com/docs/introduction/) is a framework for developing applications powered by large language models (LLMs). In this example, [ChatGoogleGenerativeAI](https://python.langchain.com/docs/integrations/chat/google_generative_ai/) is used to exemplify interaction with the same model."
   ]
  },
  {
   "cell_type": "code",
   "execution_count": 7,
   "metadata": {},
   "outputs": [],
   "source": [
    "from langchain_google_genai import ChatGoogleGenerativeAI"
   ]
  },
  {
   "cell_type": "markdown",
   "metadata": {},
   "source": [
    "**Note:** It is recommended to experiment with model hyperparameters, such as [temperature](https://cloud.google.com/vertex-ai/generative-ai/docs/learn/prompts/adjust-parameter-values#temperature), to find the right configuration for your application. Temperature influences the degree of randomness or 'creativity' in the model's output. Lower values will lead to more deterministic responses, while higher values will result in more 'creative' responses."
   ]
  },
  {
   "cell_type": "code",
   "execution_count": 43,
   "metadata": {},
   "outputs": [],
   "source": [
    "model_temperature = 0.3\n",
    "llm = ChatGoogleGenerativeAI(model=model_type, google_api_key=GEMINI_API_KEY, temperature=model_temperature)"
   ]
  },
  {
   "cell_type": "code",
   "execution_count": 9,
   "metadata": {},
   "outputs": [],
   "source": [
    "response = llm.invoke(prompt)"
   ]
  },
  {
   "cell_type": "code",
   "execution_count": 10,
   "metadata": {},
   "outputs": [
    {
     "name": "stdout",
     "output_type": "stream",
     "text": [
      "## Carbon-Capturing Facade for Central London: A Blend of Functionality and Aesthetics\n",
      "\n",
      "Here's a concept for a building facade that combines carbon capture technology with the classic elegance of central London:\n",
      "\n",
      "**Concept:**\n",
      "\n",
      "* **Inspired by Victorian Architecture:** The facade draws inspiration from the iconic brickwork and intricate details of Victorian buildings in London. \n",
      "* **Integrated Bio-Wall:** A living wall system, featuring a carefully curated selection of carbon-absorbing plants, is incorporated into the facade. This bio-wall acts as a natural carbon sink, absorbing CO2 from the surrounding air.\n",
      "* **Photovoltaic Panels:**  Hidden behind the brickwork, photovoltaic panels are strategically placed to capture solar energy. This energy powers the building and the bio-wall's lighting and irrigation systems.\n",
      "* **Smart Ventilation System:** The facade features a smart ventilation system that optimizes airflow and maximizes the bio-wall's carbon capture efficiency. This system can also regulate temperature and humidity within the building.\n",
      "* **Sustainable Materials:** The facade is constructed using sustainable materials like recycled bricks, reclaimed timber, and low-VOC paints.\n",
      "\n",
      "**Aesthetic Details:**\n",
      "\n",
      "* **Brickwork:** The facade features a traditional brick pattern with subtle variations in color and texture, creating a visually appealing and timeless aesthetic.\n",
      "* **Ornamental Details:**  Intricate details like cast iron balconies, decorative window frames, and sculpted stonework add a touch of Victorian elegance.\n",
      "* **Green Roof:** A green roof, planted with native species, further enhances the building's carbon capture capabilities and contributes to the overall aesthetic.\n",
      "* **Lighting:**  The facade is illuminated at night with energy-efficient LED lights that highlight the architectural details and create a warm and inviting atmosphere.\n",
      "\n",
      "**Benefits:**\n",
      "\n",
      "* **Carbon Capture:** The bio-wall and green roof significantly reduce the building's carbon footprint.\n",
      "* **Energy Efficiency:** The photovoltaic panels and smart ventilation system contribute to energy savings.\n",
      "* **Improved Air Quality:** The bio-wall filters pollutants from the air, improving the surrounding environment.\n",
      "* **Aesthetic Appeal:** The facade blends seamlessly with the architectural heritage of central London, enhancing the cityscape.\n",
      "\n",
      "**Implementation:**\n",
      "\n",
      "* **Collaboration with Architects and Engineers:**  A team of architects, engineers, and landscape designers will be involved in the design and implementation of the facade.\n",
      "* **Research and Development:**  Ongoing research and development will be crucial to optimize the carbon capture efficiency and longevity of the bio-wall system.\n",
      "* **Community Engagement:**  Involving the local community in the design process will ensure the facade is well-received and contributes to the neighborhood's character.\n",
      "\n",
      "This concept offers a practical and aesthetically pleasing solution for integrating carbon capture technology into the urban landscape of central London. By combining traditional architectural elements with modern technology, this facade can contribute to a more sustainable and beautiful city. \n",
      "\n"
     ]
    }
   ],
   "source": [
    "print(response.content)"
   ]
  },
  {
   "cell_type": "markdown",
   "metadata": {},
   "source": [
    "### RAG with LangChain"
   ]
  },
  {
   "cell_type": "markdown",
   "metadata": {},
   "source": [
    "![Diagrams - RAG Overview](Diagrams%20-%20RAG%20Overview.jpg)"
   ]
  },
  {
   "cell_type": "markdown",
   "metadata": {},
   "source": [
    "<i>Figure: Overview of RAG - using document data and the user query to generate an output.</i>"
   ]
  },
  {
   "cell_type": "code",
   "execution_count": 11,
   "metadata": {},
   "outputs": [],
   "source": [
    "import pandas as pd\n",
    "\n",
    "from langchain_google_genai import GoogleGenerativeAIEmbeddings\n",
    "from langchain import PromptTemplate\n",
    "from langchain.document_loaders import PyPDFLoader\n",
    "from langchain.chains.question_answering import load_qa_chain\n",
    "from langchain.text_splitter import RecursiveCharacterTextSplitter\n",
    "from langchain.vectorstores import Chroma\n",
    "from langchain.chains import RetrievalQA"
   ]
  },
  {
   "cell_type": "code",
   "execution_count": 12,
   "metadata": {},
   "outputs": [
    {
     "name": "stdout",
     "output_type": "stream",
     "text": [
      "Loaded the specified document: 121 pages\n"
     ]
    }
   ],
   "source": [
    "# Load and split a PDF file\n",
    "document_path = \"../resources/document_examples/The_Evolution_and_Change_of_Building_Facades_Research_D_Turgut_Cikis.pdf\"\n",
    "document_loader = PyPDFLoader(document_path)\n",
    "document_pages = document_loader.load_and_split()\n",
    "print(f\"Loaded the specified document: {len(document_pages)} pages\")"
   ]
  },
  {
   "cell_type": "code",
   "execution_count": 13,
   "metadata": {},
   "outputs": [
    {
     "name": "stdout",
     "output_type": "stream",
     "text": [
      "10 hung on the building structure, usually from floor to floor. It can provide a variety of \n",
      "exterior appearances but characterized by narrowly spaced vertical and horizontal caps \n",
      "with glass or metal infill panels. These systems provide a finished exterior appearance \n",
      "and most often a semi-finished interior as well (Quirouette 1982). They are also \n",
      "designed to accommodate structural deflections, control wind-driven rain and leakage, \n",
      "minimize the effects of solar radiation and provide for maintenance-free long term \n",
      "performance. Most of today's metal curtain wall systems are constructed of lightweight \n",
      "aluminum, although some may be of steel.  \n",
      " \n",
      "2.2. Historical Background \n",
      " \n",
      "Even walls present in building traditions since the beginning of human \n",
      "existence, the intention of creating large openings on it was first seen in the gothic \n",
      "architecture.  But the concept of fully glazed wall developed fitfully soon after this \n",
      "period. Therefore it was an architectural idea only awaiting necessary technology to \n",
      "become a reality. According to the architectural historians who have studied on this \n",
      "field, Bath Abbey and King’s College Chapel in Britain and La Sainte Chapel in Paris \n",
      "are the first examples of this kind of façade treatments, in Figures 2.1. and 2.2.  \n",
      " \n",
      " \n",
      " \n",
      "Figure 2.1. Facade treatment of King’s Collage Chapel \n",
      "(Source: Quirouette 1982)\n"
     ]
    }
   ],
   "source": [
    "# Visualzie the contents of the 5th page of the document\n",
    "print(document_pages[20].page_content)"
   ]
  },
  {
   "cell_type": "code",
   "execution_count": 14,
   "metadata": {},
   "outputs": [
    {
     "name": "stdout",
     "output_type": "stream",
     "text": [
      "Created 32 chunks of size 8000 from the original 121 document pages.\n"
     ]
    }
   ],
   "source": [
    "# Create chunks from the loaded PDF pages\n",
    "chunk_size=8000\n",
    "chunk_overlap=1000\n",
    "\n",
    "character_splitter = RecursiveCharacterTextSplitter(chunk_size=chunk_size, chunk_overlap=chunk_overlap)\n",
    "text_chunks = character_splitter.split_text(\"\\n\\n\".join(str(page.page_content) for page in document_pages))\n",
    "print(f\"Created {len(text_chunks)} chunks of size {chunk_size} from the original {len(document_pages)} document pages.\")"
   ]
  },
  {
   "cell_type": "code",
   "execution_count": 15,
   "metadata": {},
   "outputs": [],
   "source": [
    "# Set the model that will embed the text chunks\n",
    "embeddings_model = \"models/embedding-001\"\n",
    "embeddings = GoogleGenerativeAIEmbeddings(model=embeddings_model, google_api_key=GEMINI_API_KEY)\n",
    "\n",
    "# Create a vectorstore from the text chunks, using the set model to embed them\n",
    "number_of_chunks_to_retrieve_per_query = 3\n",
    "vectorstore_retriever = Chroma.from_texts(texts=text_chunks, embedding=embeddings).as_retriever(search_kwargs={\"k\":number_of_chunks_to_retrieve_per_query})"
   ]
  },
  {
   "cell_type": "code",
   "execution_count": 85,
   "metadata": {},
   "outputs": [],
   "source": [
    "# Create a chain for prompting, retrieving chunks from the vectorstore and using them in the llm to produce an answer\n",
    "llm_qa_chain = RetrievalQA.from_chain_type(llm=llm, retriever=vectorstore_retriever, return_source_documents=True)"
   ]
  },
  {
   "cell_type": "code",
   "execution_count": 17,
   "metadata": {},
   "outputs": [],
   "source": [
    "prompt = {\n",
    "    \"query\" : \"I want to design a facade for a large residential building in a hot climate in Sourthern Europe. The aim is to maximize the energy efficiency of the building \" + \\\n",
    "    \"through the facade design while minimizing the weight of the facade. What type of cladding system should be used? What percentage of it should be glazed?\"\n",
    "}"
   ]
  },
  {
   "cell_type": "code",
   "execution_count": 18,
   "metadata": {},
   "outputs": [],
   "source": [
    "response = llm_qa_chain.invoke(prompt)"
   ]
  },
  {
   "cell_type": "code",
   "execution_count": 19,
   "metadata": {},
   "outputs": [
    {
     "name": "stdout",
     "output_type": "stream",
     "text": [
      "Here's a breakdown of facade design considerations for a large residential building in a hot Southern European climate, focusing on energy efficiency and minimizing weight:\n",
      "\n",
      "**Cladding System Considerations:**\n",
      "\n",
      "* **Ventilated Facade:** This is a strong contender for a hot climate. It creates an air gap between the cladding and the building's insulation, allowing for natural ventilation and reducing heat gain. \n",
      "    * **Materials:**\n",
      "        * **Lightweight Metal Panels:** Aluminum or thin-gauge steel panels are excellent choices. They offer durability, low weight, and can be easily fabricated into various shapes and sizes.\n",
      "        * **High-Performance Concrete Panels:**  Consider lightweight concrete panels with insulation cores. They can provide excellent thermal performance and a modern aesthetic.\n",
      "        * **Composite Panels:**  Combining materials like metal and wood or metal and fiber cement can offer a balance of aesthetics, weight, and performance.\n",
      "\n",
      "* **Glazing:**\n",
      "    * **High-Performance Glazing:**  Use double or triple-glazed units with low-E coatings and solar control films. These reduce heat gain while maximizing natural light.\n",
      "    * **Shading Devices:**  Integrate external shading elements like brise-soleil (sunshades) or overhangs to block direct sunlight during peak hours. These can be made from lightweight materials like aluminum or wood.\n",
      "\n",
      "**Percentage of Glazing:**\n",
      "\n",
      "* **Balance is Key:**  The ideal percentage of glazing depends on the building's orientation, the specific climate, and the desired level of natural light.\n",
      "* **Consider the Following:**\n",
      "    * **Orientation:**  South-facing facades will receive the most direct sunlight, so consider a lower percentage of glazing on these surfaces.\n",
      "    * **Climate:**  A hot climate like Southern Europe will benefit from a lower percentage of glazing overall.\n",
      "    * **Natural Light:**  While maximizing natural light is desirable, it's important to avoid excessive heat gain.\n",
      "\n",
      "**Recommended Approach:**\n",
      "\n",
      "* **Hybrid Facade:**  Combine a ventilated facade system with a significant portion of high-performance glazing.\n",
      "* **Glazing Percentage:**  Aim for a glazing percentage between 30-40% of the total facade area. This allows for ample natural light while minimizing heat gain.\n",
      "* **Shading:**  Integrate shading devices on south-facing facades and any areas prone to excessive sunlight.\n",
      "\n",
      "**Additional Considerations:**\n",
      "\n",
      "* **Insulation:**  Ensure the building has adequate insulation to prevent heat transfer.\n",
      "* **Ventilation:**  Design the facade system to allow for proper ventilation and air circulation.\n",
      "* **Solar Energy:**  Explore the possibility of incorporating solar panels into the facade design to generate renewable energy.\n",
      "\n",
      "**Remember:**  Consult with an architect, structural engineer, and energy consultant to develop a facade design that meets the specific requirements of your project. \n",
      "\n"
     ]
    }
   ],
   "source": [
    "print(response[\"result\"])"
   ]
  },
  {
   "cell_type": "code",
   "execution_count": 20,
   "metadata": {},
   "outputs": [
    {
     "name": "stdout",
     "output_type": "stream",
     "text": [
      "51 appearance. Zinc panels should be well in ventilated on the on the non-exposed \n",
      "surfaces. Water from condensation or leaking can dissolve the metal relatively quickly.  \n",
      "C. Titanium is also a popular but costly material, which is rarely used in \n",
      "distinguished example of architecture. But because of the cost factor it doesn’t used \n",
      "commercially in industrialized cladding system. \n",
      " \n",
      "2.5.2. Transparent Curtain Walls \n",
      " \n",
      "The very first material evocation of curtain wall is glass. As it is known glass is \n",
      "one of the most common and also one of the oldest building materials. Its feature and \n",
      "material properties are developed during the course of history. Today it is possible to \n",
      "find different types of glass that is produced for specific needs in building market. But \n",
      "according to Wiggenton, The development in glass enormous but they are concentrated \n",
      "on finishes and coatings, and gases for insulated units, and small manipulations on float \n",
      "glass. Spurred by energy concerns, aesthetics and safety concerns, much invention \n",
      "continues to occur within these areas. Beside these, further expectations from glass are; \n",
      "non reflectivity, minimizing heat transfer, resisting on impacts, control over elusiveness, \n",
      "and clearance.  \n",
      "Glass can be annealed; heat strengthened such that its bending strength is double \n",
      "that of annealed, with four times the bending strength of annealed glass of the same size \n",
      "and the thickness. These types can than be laminated with a plastic film between two \n",
      "lites for safety reason or increased sound resistance. Lamination is also used to protect \n",
      "coating. Insulations units of two or more units held apart with a spacer usually of \n",
      "aluminum or stainless steel, increase thermal resistance.  The spacer contains a \n",
      "desiccant to keep the air space free of visible moisture. A single or double seal around \n",
      "the unit insures the space is hermetically sealed. Warm-edge technology recognizes the \n",
      "advantages of lower thermal conductance at the edge of insulating units by using low-\n",
      "conductance spacers. This not only decreases heat loss but helps control condensation \n",
      "(Brock 2005).  \n",
      "One of the best glass types is float glass. Light transmittance ratio is very high in \n",
      "float glass. For example 75-92 percent of visible light can pass on, depending on the \n",
      "thickness and the composition of the glass. Float glass usually have a greenish tint \n",
      "expect low-iron glass is specified. Beside this tint different colors are available in the\n",
      "\n",
      "52 markets; such as bronze, gray dark gray, aquamarine, green, deep green, blue and black. \n",
      "Tinting absorbs and in that way reduces diminish solar transmittance. \n",
      "Coatings have very important function on improving material quality of glass. \n",
      "By using coating on the surface of the glass, absorption, reflection, and radiation of \n",
      "solar energy can be reduced. The most common coatings are solar reflective glass, and \n",
      "low-emissive glass. Reflective coatings are in silver, blue gold and copper colors. Other \n",
      "type of glass is low-energy glass. This glass reflects long wave, infrared energy. Some \n",
      "coatings are also reflective of the whole infrared spectrum. Depending on the climate, \n",
      "coatings by reducing heating ventilation and air conditioning (HVAC) expenditure \n",
      "provide large amount of energy savings.  Selection of appropriate coating on the correct \n",
      "surface is depends on the climate. \n",
      "A glass cladding system may be designed to be outside glazed, which means that \n",
      "glass must be installed or replaced by workers standing on scaffolding or staging \n",
      "outside the building. Cladding system may also be designed to be inside glazed by \n",
      "workers who stand inside the building. Replacement of glass may also be done from \n",
      "within the building. Inside glazing is more efficient and common in high rise buildings, \n",
      "but it also require more elaborate set of extrusions. Whereas, relatively simple set of \n",
      "extrusions are used on “outside glazing systems”. The system is cheaper than inside \n",
      "glazed systems especially for the buildings with two or three stories tall buildings whose \n",
      "walls workers can easily reach from external scaffolding.   \n",
      "One of the distinguishing features of glass claddings is the problem of rain \n",
      "penetration in between the panels or frames. That’s why; both rubber gaskets to seal \n",
      "around the glass are to be considered precisely. If the inner and outer gaskets around a \n",
      "light of glass is defective many problems occurs. This can happen as a result of the wind \n",
      "driven-rain or capillary action. The water that passes from the outer gasket into the \n",
      "space between the edges of the glass and aluminum can damage the skeletal frame of \n",
      "the cladding and materials inside. For example if water has leaked in along a vertical \n",
      "edge of the glass, it is contained within   the vertical mullion and will fall by gravity to \n",
      "the bottom, where it drains out through weep halls.  If water accumulates in horizontal \n",
      "mullion, it is prevented from running out of the ends of the mullion by rubber end plugs, \n",
      "which are seen in the Figure 2.26.\n",
      "\n",
      "53 \n",
      " \n",
      " \n",
      "Figure 2.26. An example of outside glazed stick system \n",
      "(Source: Allen 2005) \n",
      " \n",
      "In glass claddings the entire system works as a rainscreen assembly. In practice \n",
      "however, the responsibility to take every precaution to prevent passage of water is \n",
      "belongs to the installers and manufacturers and they are to assure that the outer gaskets \n",
      "are properly installed.   \n",
      "Another important issue of glass cladding systems is “expansion joints” Because \n",
      "of the different behavior pattern of metal frame and glass, expansion joints become an \n",
      "important detail problem to solve. As it is very well known, thermal expansion \n",
      "coefficient of metal which is used in the frame of cladding systems is higher than glass. \n",
      "For example, the coefficient for glass is less than half as much of aluminum. As the \n",
      "building façade exposed to direct heating by the sun, it is necessary to provide \n",
      "expansion joints to allow thermal movement to occur without damaging the cladding or \n",
      "the frame.  \n",
      "The difference in thermal movement between glass and aluminum are generally \n",
      "accommodated by very small sliding and flexing motions that occur between the glass\n",
      "\n",
      "54 and the gaskets in which it is mounted figure 2.27. Rubber blocks placed between the \n",
      "edge of the glass and the mullion on either side of each light prevent the glass \n",
      "“walking” too far in either direction during repeated cycles of heating and cooling \n",
      "(Allen 2005). In the next drawing, vertical thermal movement in the aluminum is \n",
      "absorbed by telescopic joints that are provided at regular intervals in the vertical \n",
      "mullions. Horizontal thermal movement is accommodated by intentionally cutting \n",
      "horizontal aluminum components slightly short by a calculated fraction of 2cm at each \n",
      "vertical mullion.  \n",
      " \n",
      " \n",
      " \n",
      "Figure 2.27. Vertical joints between Aluminum panel system \n",
      "(Source: Allen 2005)\n",
      "vi TABLE OF CONTENTS \n",
      " \n",
      "LIST OF FIGURES.......................................................................................................viii \n",
      " \n",
      "CHAPTER  1.  INTRODUCTION..................................................................................1 \n",
      "1.1.  Problem Definition..............................................................................2 \n",
      "1.2.  Scope of the Study...............................................................................5 \n",
      "1.3.  Method of the Study............................................................................6 \n",
      "1.4.  Structure of the Study..........................................................................6 \n",
      " \n",
      "CHAPTER  2.  FAÇADE CLADDING SYSTEMS........................................................8 \n",
      "2.1.  Definitions ..........................................................................................8 \n",
      "2.2.  Historical Background.......................................................................10 \n",
      "2.3.  Design Principles of Façade Claddings.............................................19 \n",
      "2.3.1.  Control of Air Flow......................................................................20 \n",
      "2.3.2.  Control of Heat Flow....................................................................21 \n",
      "2.3.3.  Control over the Entry of Rain and Snow....................................22 \n",
      "2.3.4.  Control of Sunlight and other Form of Radiant Energy...............24 \n",
      "2.3.5.  Control of Vapor Diffusion..........................................................25 \n",
      "2.3.6.  Accommodation of Building Movements....................................26 \n",
      "2.4.  Moods of Assembly of Façade Claddings.........................................28 \n",
      "2.4.1.  Stick System.................................................................................29 \n",
      "2.4.1.  Unit System..................................................................................31 \n",
      "2.4.3.  Unit and Mullion System.............................................................33 \n",
      "2.4.4.  Panel System................................................................................34 \n",
      "2.4.5.  Column Cover and Spandrel System...........................................35 \n",
      "2.4.5.  Structural Glazing System............................................................36 \n",
      "2.5.  Materials in Cladding.........................................................................37 \n",
      "2.5.1.  Opaque Curtain Walls..................................................................37 \n",
      "2.5.1.1.  Stone and Artificial Stone....................................................38 \n",
      "2.5.1.2.  Concrete Panels...................................................................39 \n",
      "2.5.1.3.  Terra-Cotta Ceramic Panels.................................................44 \n",
      "2.5.1.3.  Metal Panels........................................................................48\n",
      "\n",
      "vii 2.5.2.  Transparent Curtain Walls...........................................................51 \n",
      " \n",
      "CHAPTER  3. DESIGN AND CONSTRUCTION WITH DIGITAL \n",
      "TECHNOLOGIES................................................................................55 \n",
      "3.1.  Digital Applications in Design..........................................................55 \n",
      "3.1.1.  General Definitions and Functions of Design Tools....................56 \n",
      "3.1.1.1.  Symbolic Design Tools.......................................................59 \n",
      "3.1.1.2.  Analog Design Tools...........................................................61 \n",
      "3.1.1.3.  Digital Design Tools............................................................62 \n",
      "3.1.1.1.1.  Object Based (CAD and CAAD) Programs in \n",
      "Design.....................................................................63 \n",
      "3.1.1.1.2.  Solid Modeling and Animation Programs in \n",
      "Design.....................................................................64 \n",
      "3.2.  Digital Fabrication and Rapid Manufacturing in Construction.........67 \n",
      "3.2.1.  Digital Fabrication Methods.........................................................68 \n",
      "3.2.1.1.  Cutting Methods (Lateral Countering)................................70 \n",
      "3.2.1.2.  Subtractive Fabrication........................................................71 \n",
      "3.2.1.3.  Additive Fabrication............................................................74 \n",
      "3.2.1.4.  Formative Fabrication..........................................................76 \n",
      "3.2.2.  Digital Fabrication and Rapid Manufacturing in \n",
      "Construction Sector......................................................................76 \n",
      "3.2.2.1.  Digital Cladding and Surface Treatments ..........................83 \n",
      " \n",
      "CHAPTER   4.  CASE STUDY......................................................................................88 \n",
      "4.1.  Definition of the Selected Project......................................................88 \n",
      "4.2.  Restrictions and Objective.................................................................93 \n",
      "4.3.  Development of Cladding Design......................................................95 \n",
      "4.3.1.  Material and Production Process Selection..................................97 \n",
      "4.3.1.1.  Material Selection................................................................97 \n",
      "4.3.1.2.  Process Design...................................................................101 \n",
      "4.4.  Design..............................................................................................102 \n",
      "4.4.1.  Composite Design......................................................................102 \n",
      "4.4.2.  Moulding Design........................................................................104\n",
      "\n",
      "viii CHAPTER  5.  CONCLUSION...................................................................................106 \n",
      " \n",
      "REFERANCES .............................................................................................................107\n",
      "8 CHAPTER 2 \n",
      " \n",
      "FAÇADE CLADDING SYSTEMS \n",
      " \n",
      "2.1. Definitions  \n",
      " \n",
      "Creating an enclosure to mediate the environment is one of the basic needs of \n",
      "human being. Protection against excessive climatic conditions, natural disasters or other \n",
      "humans or animals are the primary incentive of this need. Starting from this point on, it \n",
      "can be stated that, the major purpose of cladding is to separate the indoor environment \n",
      "from the outdoors in such a way that indoor environment conditions can be maintained \n",
      "at level suitable for the buildings intended use.  Therefore from the functional point of \n",
      "view it can be defined as, the part of the building that is non load bearing exterior wall \n",
      "that must defend the interior spaces against invasion by water, wind, sun, light, heat and \n",
      "cold, and all the other forces of nature. Besides this it must also fulfill the aesthetic, \n",
      "economic and security considerations. Because of these reasons its design is an intricate \n",
      "process that merges the art, science and craft to solve a very long and difficult list of \n",
      "problems.  The design of the building façade has become much more complicated with \n",
      "development of new methods of construction, the requirements for a highly controlled \n",
      "interior environments, stress on energy efficiency, advent of materials and new \n",
      "production methods. As a measure of responsibility on the part of architects the \n",
      "envelope needs to be well designed. \n",
      "The terms, cladding and curtain wall are sometimes confusing in the technical \n",
      "literature. Even in technical dictionaries the terms cladding and curtain wall are defined \n",
      "with similar properties i.e. non- load bearing wall of a skeleton frame (Osterle 2003). \n",
      "made a distinction between solid and transparent facades. According to them, the non-\n",
      "transparent area of the façade will be thermally insulated and then rendered or finished \n",
      "with modern cladding systems. The cladding with a ventilated cavity to the rear is fixed \n",
      "with carcass structure. Stone is one of the cladding materials used for these non –\n",
      "transparent facades. According to the definition of curtain wall by Osterle, the curtain \n",
      "wall is separated from the structure and its structure, suspended between the floors of \n",
      "the buildings and façade elements can be prefabricated. The type of infill material is not \n",
      "important in most of the definitions (Schaupp 1967). explained the development of\n",
      "\n",
      "9 stone facades with stone adhered to the back structure to ventilated walls and he named \n",
      "this ventilated stone wall as a curtain wall, but this should be called as stone cladding \n",
      "since there is a direct connection of the stone panels to the backup wall (Musaa\u0004ao\u0004lu \n",
      "2005).  \n",
      "But in most common sense the cladding wall is described as “the finish covering \n",
      "of an exterior wall of frame building; the siding may be cladding material such as wood, \n",
      "aluminum or asbestos cement (but not masonry) applied vertically or horizontally” in \n",
      "the dictionary of architecture and construction, prepared by Harris (Harris 1993).  \n",
      "According to Linda Brock however, the term cladding denotes the visible materials on \n",
      "the exterior of the wall. Cladding act as the primary whether barrier, and as such they \n",
      "are sometimes called a rain screen. Some claddings such as insulated glass units \n",
      "perform all of the walls functions (Brock 2005). \n",
      "Allen also unites the concepts of curtain walls and cladding walls. According to \n",
      "her, the name “curtain wall” drives from the idea that the wall is thin and “hangs” like a \n",
      "curtain on the structural frame (Most of curtain wall panels do not actually hang in \n",
      "tension from the frame, but supported from the bottom at each floor level) The earliest \n",
      "curtain walls were constructed of masonry The principle advantage of the curtain wall is \n",
      "that because it bears no vertical load, it can be thin and light in weight regardless of the \n",
      "height of the building, as compared to a masonry load bearing wall, which may be \n",
      "become prohibitively thick and weighty at the base of a very tall building (Allen 2004).  \n",
      "But most of the definition is made in relations to the structure of the building. \n",
      "For example; according to Ochshorn, the curtain wall is defined in terms of its \n",
      "functional relationship to the building's structure. It then refers to the cladding, or \n",
      "enclosure, of a building as something both separate from and attached to the building's \n",
      "skeletal framework (Ochshorn 2003). Where load bearing walls provide both structure \n",
      "and enclosure, there can be no curtain wall. But difficulties emerge within this \n",
      "definition when the question of \"infill\" is considered: are conventional windows (or \n",
      "other infill material), when fixed inside the boundaries of a structural frame, considered \n",
      "to represent curtain wall construction? Such construction is certainly \"attached\" to the \n",
      "structural frame, but not exactly \"hanging\" from it. When is a window just a window \n",
      "within a frame, and when does it transform into a curtain wall? The answer may have \n",
      "more to do with one's aesthetic bias than with the actual functional relationship between \n",
      "cladding and structure. Another and more comprehensive definition of the curtain wall \n",
      "is made by Quirouette; a curtain wall system is a lightweight exterior cladding which is\n",
      "\n",
      "10 hung on the building structure, usually from floor to floor. It can provide a variety of \n",
      "exterior appearances but characterized by narrowly spaced vertical and horizontal caps \n",
      "with glass or metal infill panels. These systems provide a finished exterior appearance \n",
      "and most often a semi-finished interior as well (Quirouette 1982). They are also \n",
      "designed to accommodate structural deflections, control wind-driven rain and leakage, \n",
      "minimize the effects of solar radiation and provide for maintenance-free long term \n",
      "performance. Most of today's metal curtain wall systems are constructed of lightweight \n",
      "aluminum, although some may be of steel.  \n",
      " \n",
      "2.2. Historical Background \n",
      " \n",
      "Even walls present in building traditions since the beginning of human \n",
      "existence, the intention of creating large openings on it was first seen in the gothic \n",
      "architecture.  But the concept of fully glazed wall developed fitfully soon after this \n",
      "period. Therefore it was an architectural idea only awaiting necessary technology to \n",
      "become a reality. According to the architectural historians who have studied on this \n",
      "field, Bath Abbey and King’s College Chapel in Britain and La Sainte Chapel in Paris \n",
      "are the first examples of this kind of façade treatments, in Figures 2.1. and 2.2.  \n",
      " \n",
      " \n",
      " \n",
      "Figure 2.1. Facade treatment of King’s Collage Chapel \n",
      "(Source: Quirouette 1982)\n",
      "\n",
      "11 \n",
      " \n",
      " \n",
      "Figure 2.2. Treatment of La Sainte Chapel in Paris \n",
      "(Source: Quirouette 1982) \n",
      " \n",
      " \n",
      "In tree of these buildings, the windows were enlarged to the point of forming \n",
      "virtually the entire wall that was not needed for roof support. During the sixteenth \n",
      "century of England, large areas of glass brought into the design concepts, especially in \n",
      "mansions.  Bess of Hardwick House is one of the most well-known examples of this \n",
      "attitude.  The use of large windows in this building is appropriate to the logic of \n",
      "cladding walls. This building is one of the earliest examples of the curtain walls.  \n",
      " \n",
      " \n",
      " \n",
      "Figure 2.3. Bess of Harwick Mansion, large window openings from ceiling to floor         \n",
      "occupies the function of cladding wall (Source: Quirouette 1982).\n"
     ]
    }
   ],
   "source": [
    "# The specific data from the document that was used to generate the prompt can be retrieved from the response\n",
    "print(\"\\n\".join([document.page_content for document in response[\"source_documents\"]]))"
   ]
  },
  {
   "cell_type": "markdown",
   "metadata": {},
   "source": [
    "### Returning structured output"
   ]
  },
  {
   "cell_type": "markdown",
   "metadata": {},
   "source": [
    "In order to ensure that the model response is compatible with the continuation of the application pipeline, [a specific output structure can be imposed](https://python.langchain.com/docs/how_to/structured_output/) - such as Pydantic classes, JSON schemas or custom definitions."
   ]
  },
  {
   "cell_type": "code",
   "execution_count": 75,
   "metadata": {},
   "outputs": [],
   "source": [
    "from typing import Optional\n",
    "from pydantic import BaseModel, Field\n",
    "from langchain.output_parsers import PydanticOutputParser\n",
    "from langchain_core.prompts import ChatPromptTemplate, HumanMessagePromptTemplate"
   ]
  },
  {
   "cell_type": "code",
   "execution_count": 69,
   "metadata": {},
   "outputs": [],
   "source": [
    "# Create a Pydantic class to enforce the structure of the model's response\n",
    "class FacadeSpecifications(BaseModel):\n",
    "    \"\"\"The facade specifications recommended by the LLM in accordance with the provided documentation.\"\"\"\n",
    "    \n",
    "    cladding_system: Optional[str] = Field(description=\"The cladding system of the building.\")\n",
    "    glazing_system: Optional[str] = Field(description=\"The glazing system of the building.\")\n",
    "    predominant_material: Optional[str] = Field(description=\"The predominant cladding material in the facade.\")\n",
    "    glazing_percentage: Optional[int] = Field(description=\"The percentage of the facade that should be comprised of glazing.\")"
   ]
  },
  {
   "cell_type": "code",
   "execution_count": 78,
   "metadata": {},
   "outputs": [],
   "source": [
    "# Create a parser that will process the model outputs into the predefined BaseModel class\n",
    "parser = PydanticOutputParser(pydantic_object=FacadeSpecifications)"
   ]
  },
  {
   "cell_type": "code",
   "execution_count": 81,
   "metadata": {},
   "outputs": [
    {
     "name": "stdout",
     "output_type": "stream",
     "text": [
      "The output should be formatted as a JSON instance that conforms to the JSON schema below.\n",
      "\n",
      "As an example, for the schema {\"properties\": {\"foo\": {\"title\": \"Foo\", \"description\": \"a list of strings\", \"type\": \"array\", \"items\": {\"type\": \"string\"}}}, \"required\": [\"foo\"]}\n",
      "the object {\"foo\": [\"bar\", \"baz\"]} is a well-formatted instance of the schema. The object {\"properties\": {\"foo\": [\"bar\", \"baz\"]}} is not well-formatted.\n",
      "\n",
      "Here is the output schema:\n",
      "```\n",
      "{\"description\": \"The facade specifications recommended by the LLM in accordance with the provided documentation.\", \"properties\": {\"cladding_system\": {\"anyOf\": [{\"type\": \"string\"}, {\"type\": \"null\"}], \"description\": \"The cladding system of the building.\", \"title\": \"Cladding System\"}, \"glazing_system\": {\"anyOf\": [{\"type\": \"string\"}, {\"type\": \"null\"}], \"description\": \"The glazing system of the building.\", \"title\": \"Glazing System\"}, \"predominant_material\": {\"anyOf\": [{\"type\": \"string\"}, {\"type\": \"null\"}], \"description\": \"The predominant cladding material in the facade.\", \"title\": \"Predominant Material\"}, \"glazing_percentage\": {\"anyOf\": [{\"type\": \"integer\"}, {\"type\": \"null\"}], \"description\": \"The percentage of the facade that should be comprised of glazing.\", \"title\": \"Glazing Percentage\"}}, \"required\": [\"cladding_system\", \"glazing_system\", \"predominant_material\", \"glazing_percentage\"]}\n",
      "```\n"
     ]
    }
   ],
   "source": [
    "print(parser.get_format_instructions())"
   ]
  },
  {
   "cell_type": "code",
   "execution_count": 79,
   "metadata": {},
   "outputs": [],
   "source": [
    "# Create a prompt template to query the model\n",
    "prompt = ChatPromptTemplate(\n",
    "    messages=[\n",
    "        HumanMessagePromptTemplate.from_template(\n",
    "            \"Answer the user's question as best as possible with information about the cladding system, glazing system, materials and glazing percentage in the context of the discussed facade design.\" + \\\n",
    "            \"\\n{format_instructions}\\n{question}\"\n",
    "        )\n",
    "    ],\n",
    "    input_variables=[\"question\"],\n",
    "    partial_variables={\n",
    "        \"format_instructions\": parser.get_format_instructions(),\n",
    "    }\n",
    ")"
   ]
  },
  {
   "cell_type": "code",
   "execution_count": 99,
   "metadata": {},
   "outputs": [
    {
     "name": "stdout",
     "output_type": "stream",
     "text": [
      "Human: Answer the user's question as best as possible with information about the cladding system, glazing system, materials and glazing percentage in the context of the discussed facade design.\n",
      "The output should be formatted as a JSON instance that conforms to the JSON schema below.\n",
      "\n",
      "As an example, for the schema {\"properties\": {\"foo\": {\"title\": \"Foo\", \"description\": \"a list of strings\", \"type\": \"array\", \"items\": {\"type\": \"string\"}}}, \"required\": [\"foo\"]}\n",
      "the object {\"foo\": [\"bar\", \"baz\"]} is a well-formatted instance of the schema. The object {\"properties\": {\"foo\": [\"bar\", \"baz\"]}} is not well-formatted.\n",
      "\n",
      "Here is the output schema:\n",
      "```\n",
      "{\"description\": \"The facade specifications recommended by the LLM in accordance with the provided documentation.\", \"properties\": {\"cladding_system\": {\"anyOf\": [{\"type\": \"string\"}, {\"type\": \"null\"}], \"description\": \"The cladding system of the building.\", \"title\": \"Cladding System\"}, \"glazing_system\": {\"anyOf\": [{\"type\": \"string\"}, {\"type\": \"null\"}], \"description\": \"The glazing system of the building.\", \"title\": \"Glazing System\"}, \"predominant_material\": {\"anyOf\": [{\"type\": \"string\"}, {\"type\": \"null\"}], \"description\": \"The predominant cladding material in the facade.\", \"title\": \"Predominant Material\"}, \"glazing_percentage\": {\"anyOf\": [{\"type\": \"integer\"}, {\"type\": \"null\"}], \"description\": \"The percentage of the facade that should be comprised of glazing.\", \"title\": \"Glazing Percentage\"}}, \"required\": [\"cladding_system\", \"glazing_system\", \"predominant_material\", \"glazing_percentage\"]}\n",
      "```\n",
      "I want to design a facade for a large residential building in a hot climate in Sourthern Europe. The aim is to maximize the energy efficiency of the building through the facade design while minimizing the weight of the facade. Consider how much glazing should be used. What type of cladding system should be used? What percentage of it should be glazed?\n"
     ]
    }
   ],
   "source": [
    "# Define the actual query from the user\n",
    "query = \"I want to design a facade for a large residential building in a hot climate in Sourthern Europe. The aim is to maximize the energy efficiency of the building \" + \\\n",
    "    \"through the facade design while minimizing the weight of the facade. Consider how much glazing should be used. What type of cladding system should be used? What percentage of it should be glazed?\"\n",
    "\n",
    "# Use the prompt template and the user query to create the input to the model\n",
    "input = prompt.format_prompt(question=query)\n",
    "\n",
    "print(input.to_string())"
   ]
  },
  {
   "cell_type": "code",
   "execution_count": 100,
   "metadata": {},
   "outputs": [],
   "source": [
    "# Invoke the LLM chain with a string representation of the input\n",
    "output = llm_qa_chain.invoke(input.to_string())"
   ]
  },
  {
   "cell_type": "code",
   "execution_count": 101,
   "metadata": {},
   "outputs": [
    {
     "name": "stdout",
     "output_type": "stream",
     "text": [
      "```json\n",
      "{\n",
      "\"cladding_system\": \"Unit and Mullion System\",\n",
      "\"glazing_system\": \"Outside Glazed Stick System\",\n",
      "\"predominant_material\": \"Aluminum\",\n",
      "\"glazing_percentage\": 60\n",
      "}\n",
      "```\n"
     ]
    }
   ],
   "source": [
    "print(output[\"result\"])"
   ]
  },
  {
   "cell_type": "code",
   "execution_count": 102,
   "metadata": {},
   "outputs": [
    {
     "name": "stdout",
     "output_type": "stream",
     "text": [
      "cladding_system='Unit and Mullion System' glazing_system='Outside Glazed Stick System' predominant_material='Aluminum' glazing_percentage=60\n"
     ]
    }
   ],
   "source": [
    "# parse the output into the predefined Pydantic class\n",
    "parsed_output = parser.parse(output[\"result\"])\n",
    "print(parsed_output)"
   ]
  },
  {
   "cell_type": "code",
   "execution_count": 103,
   "metadata": {},
   "outputs": [
    {
     "data": {
      "text/plain": [
       "60"
      ]
     },
     "execution_count": 103,
     "metadata": {},
     "output_type": "execute_result"
    }
   ],
   "source": [
    "parsed_output.glazing_percentage"
   ]
  },
  {
   "cell_type": "code",
   "execution_count": null,
   "metadata": {},
   "outputs": [],
   "source": []
  }
 ],
 "metadata": {
  "kernelspec": {
   "display_name": "py310llm",
   "language": "python",
   "name": "python3"
  },
  "language_info": {
   "codemirror_mode": {
    "name": "ipython",
    "version": 3
   },
   "file_extension": ".py",
   "mimetype": "text/x-python",
   "name": "python",
   "nbconvert_exporter": "python",
   "pygments_lexer": "ipython3",
   "version": "3.10.15"
  }
 },
 "nbformat": 4,
 "nbformat_minor": 2
}
