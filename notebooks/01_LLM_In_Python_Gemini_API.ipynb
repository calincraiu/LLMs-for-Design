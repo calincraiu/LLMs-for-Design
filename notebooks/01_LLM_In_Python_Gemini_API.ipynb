{
 "cells": [
  {
   "cell_type": "markdown",
   "metadata": {},
   "source": [
    "# Using LLMs in Python"
   ]
  },
  {
   "cell_type": "markdown",
   "metadata": {},
   "source": []
  },
  {
   "cell_type": "code",
   "execution_count": 1,
   "metadata": {},
   "outputs": [],
   "source": [
    "import os\n",
    "\n",
    "import dotenv\n",
    "import PIL.Image\n",
    "\n",
    "import google.generativeai as genai"
   ]
  },
  {
   "cell_type": "code",
   "execution_count": 2,
   "metadata": {},
   "outputs": [
    {
     "name": "stdout",
     "output_type": "stream",
     "text": [
      "Loaded environment variables.\n"
     ]
    }
   ],
   "source": [
    "loaded: bool = dotenv.load_dotenv()\n",
    "print(\"Loaded environment variables.\" if loaded else \"Could not load environment variables.\")"
   ]
  },
  {
   "cell_type": "code",
   "execution_count": 3,
   "metadata": {},
   "outputs": [],
   "source": [
    "GEMINI_API_KEY = os.getenv('GEMINI_API_KEY')\n",
    "genai.configure(api_key=GEMINI_API_KEY)"
   ]
  },
  {
   "cell_type": "code",
   "execution_count": 4,
   "metadata": {},
   "outputs": [
    {
     "name": "stdout",
     "output_type": "stream",
     "text": [
      "Model name: models/gemini-1.5-flash\n",
      "Model version: 001\n",
      "Input token limit: 1000000\n",
      "Output token limit: 8192\n"
     ]
    }
   ],
   "source": [
    "model_type = 'models/gemini-1.5-flash'\n",
    "model = genai.GenerativeModel(model_type)\n",
    "model_info = genai.get_model(model_type)\n",
    "print(f\"Model name: {model_info.name}\\nModel version: {model_info.version}\\nInput token limit: {model_info.input_token_limit}\\nOutput token limit: {model_info.output_token_limit}\")"
   ]
  },
  {
   "cell_type": "code",
   "execution_count": 39,
   "metadata": {},
   "outputs": [
    {
     "data": {
      "text/plain": [
       "total_tokens: 23"
      ]
     },
     "execution_count": 39,
     "metadata": {},
     "output_type": "execute_result"
    }
   ],
   "source": [
    "# Counting tokens\n",
    "prompt = \"I want to design a building facade that helps with carbon-capture and fits in with the aesthetic of central London.\"\n",
    "model.count_tokens(prompt)"
   ]
  },
  {
   "cell_type": "code",
   "execution_count": 40,
   "metadata": {},
   "outputs": [
    {
     "name": "stdout",
     "output_type": "stream",
     "text": [
      "## Carbon-Capturing Facade for Central London: Blending Aesthetics and Sustainability\n",
      "\n",
      "Here's a concept for a facade that blends carbon capture with the architectural heritage of central London:\n",
      "\n",
      "**Concept:**\n",
      "\n",
      "* **Inspired by Victorian Era Architecture:** The facade takes inspiration from London's iconic Victorian architecture, specifically the use of ornate details, terracotta, and brickwork. \n",
      "* **Integrated Carbon Capture System:**  The facade incorporates a system of bio-filters and photocatalytic materials that actively capture carbon dioxide from the air. \n",
      "* **Aesthetic Integration:** The carbon capture elements are seamlessly integrated into the design, disguised as decorative features.\n",
      "* **Adaptive Design:**  The system is designed to be modular and adaptable, allowing for customization to different building sizes and shapes.\n",
      "\n",
      "**Specific Elements:**\n",
      "\n",
      "* **Terracotta Panels:**  Ornamental terracotta panels with integrated photocatalytic coatings. These panels act as a passive carbon capture system, using sunlight to break down pollutants and capture CO2.\n",
      "* **Bio-Filter Vents:**  Elegant, decorative vents strategically placed throughout the facade. These vents house bio-filters, which utilize microorganisms to absorb and convert CO2 into harmless substances. The filters can be visually integrated with the existing brickwork or create a distinctive pattern.\n",
      "* **Green Walls:**  Vertical gardens are incorporated into the facade, strategically placed on balconies or within designated areas. These green walls contribute to carbon capture and improve air quality while adding a vibrant touch to the building.\n",
      "* **Solar Panels:**  Sleek, black solar panels can be incorporated discreetly into the building's roof or hidden within the facade, providing a sustainable energy source.\n",
      "\n",
      "**Benefits:**\n",
      "\n",
      "* **Environmental Impact:** This facade actively contributes to reducing carbon emissions and improving air quality.\n",
      "* **Aesthetic Appeal:** The design complements the existing architectural style of central London, preserving its heritage while incorporating innovative technology.\n",
      "* **Sustainability:**  The use of renewable energy sources and sustainable materials contributes to a more environmentally friendly building.\n",
      "* **Adaptability:** The modular design allows for customization to suit different building sizes and shapes.\n",
      "\n",
      "**Considerations:**\n",
      "\n",
      "* **Cost:**  Integrating carbon capture technologies into a facade can be costly. \n",
      "* **Maintenance:**  Regular cleaning and maintenance of the carbon capture elements are essential for optimal performance.\n",
      "* **Integration with Existing Buildings:**  Adapting the design to existing buildings might require specific engineering solutions.\n",
      "\n",
      "**Conclusion:**\n",
      "\n",
      "This concept offers a potential solution for creating a carbon-capturing facade that is both aesthetically pleasing and functional. By blending innovative technology with the timeless beauty of London's architecture, this design can contribute to a sustainable and environmentally responsible future for the city.\n"
     ]
    }
   ],
   "source": [
    "# Prompting\n",
    "response = model.generate_content(prompt)\n",
    "print(response.text)"
   ]
  },
  {
   "cell_type": "markdown",
   "metadata": {},
   "source": [
    "### Using LangChain"
   ]
  },
  {
   "cell_type": "markdown",
   "metadata": {},
   "source": [
    "[Langchain](https://python.langchain.com/docs/introduction/) is a framework for developing applications powered by large language models (LLMs). In this example, [ChatGoogleGenerativeAI](https://python.langchain.com/docs/integrations/chat/google_generative_ai/) is used to exemplify interaction with the same model."
   ]
  },
  {
   "cell_type": "code",
   "execution_count": 7,
   "metadata": {},
   "outputs": [],
   "source": [
    "from langchain_google_genai import ChatGoogleGenerativeAI"
   ]
  },
  {
   "cell_type": "markdown",
   "metadata": {},
   "source": [
    "**Note:** It is recommended to experiment with model hyperparameters, such as [temperature](https://cloud.google.com/vertex-ai/generative-ai/docs/learn/prompts/adjust-parameter-values#temperature), to find the right configuration for your application. Temperature influences the degree of randomness or 'creativity' in the model's output. Lower values will lead to more deterministic responses, while higher values will result in more 'creative' responses."
   ]
  },
  {
   "cell_type": "code",
   "execution_count": 8,
   "metadata": {},
   "outputs": [],
   "source": [
    "model_temperature = 0.2\n",
    "llm = ChatGoogleGenerativeAI(model=model_type, google_api_key=GEMINI_API_KEY, temperature=model_temperature)"
   ]
  },
  {
   "cell_type": "code",
   "execution_count": 41,
   "metadata": {},
   "outputs": [],
   "source": [
    "response = llm.invoke(prompt)"
   ]
  },
  {
   "cell_type": "code",
   "execution_count": 42,
   "metadata": {},
   "outputs": [
    {
     "name": "stdout",
     "output_type": "stream",
     "text": [
      "## Carbon-Capturing Facade for Central London: A Blend of Functionality and Aesthetics\n",
      "\n",
      "Here's a concept for a building facade that combines carbon capture technology with the classic elegance of central London:\n",
      "\n",
      "**Concept:**\n",
      "\n",
      "* **Inspired by Victorian Architecture:** The facade draws inspiration from the intricate details and ornate designs of Victorian buildings in London, using traditional materials like brick, stone, and cast iron. This ensures a seamless integration with the surrounding architecture.\n",
      "* **Integrated Bio-Wall System:** The facade incorporates a vertical bio-wall system, featuring a variety of native plants and mosses known for their carbon absorption capabilities. This living wall acts as a natural air filter, capturing CO2 and releasing oxygen.\n",
      "* **Smart Glass Panels:**  The facade features strategically placed smart glass panels that can adjust their transparency based on sunlight levels and building energy needs. This optimizes natural light penetration while minimizing heat gain, reducing energy consumption.\n",
      "* **Integrated Photovoltaic Panels:**  Hidden within the facade's intricate details are photovoltaic panels that generate clean energy from sunlight. These panels are seamlessly integrated into the design, maintaining the aesthetic appeal.\n",
      "* **Air Filtration System:**  The facade incorporates a discreet air filtration system that draws in air from the surrounding environment, filtering out pollutants and capturing CO2. This system can be integrated into the building's ventilation system, ensuring continuous air purification.\n",
      "\n",
      "**Aesthetic Considerations:**\n",
      "\n",
      "* **Traditional Materials:**  Using traditional materials like brick, stone, and cast iron ensures a harmonious blend with the existing architecture of central London.\n",
      "* **Ornate Details:**  The facade incorporates intricate details like decorative moldings, window frames, and balconies, reminiscent of Victorian architecture.\n",
      "* **Color Palette:**  The color palette is inspired by the warm tones of traditional London buildings, using shades of red brick, cream stone, and dark grey cast iron.\n",
      "* **Lighting Design:**  The facade is illuminated at night with subtle lighting that highlights the intricate details and creates a warm and inviting ambiance.\n",
      "\n",
      "**Benefits:**\n",
      "\n",
      "* **Carbon Capture:** The bio-wall system, air filtration system, and smart glass panels contribute to significant carbon capture and reduction.\n",
      "* **Energy Efficiency:**  The smart glass panels and photovoltaic panels optimize energy consumption and generate clean energy.\n",
      "* **Improved Air Quality:**  The air filtration system and bio-wall system contribute to cleaner air in the surrounding environment.\n",
      "* **Aesthetic Integration:**  The facade seamlessly blends with the existing architecture of central London, enhancing the visual appeal of the building.\n",
      "\n",
      "**Implementation:**\n",
      "\n",
      "* **Collaboration with Architects and Engineers:**  The design requires collaboration with architects, engineers, and specialists in bio-wall technology and air filtration systems.\n",
      "* **Sustainable Materials:**  The facade utilizes sustainable materials and construction methods to minimize environmental impact.\n",
      "* **Maintenance and Monitoring:**  The bio-wall system and air filtration system require regular maintenance and monitoring to ensure optimal performance.\n",
      "\n",
      "This concept offers a practical and aesthetically pleasing solution for incorporating carbon capture technology into the architecture of central London, contributing to a more sustainable and environmentally friendly urban environment. \n",
      "\n"
     ]
    }
   ],
   "source": [
    "print(response.content)"
   ]
  },
  {
   "cell_type": "markdown",
   "metadata": {},
   "source": [
    "### RAG with LangChain"
   ]
  },
  {
   "cell_type": "markdown",
   "metadata": {},
   "source": [
    "![RAG with LangChain](https://python.langchain.com/assets/images/rag_retrieval_generation-1046a4668d6bb08786ef73c56d4f228a.png)"
   ]
  },
  {
   "cell_type": "markdown",
   "metadata": {},
   "source": [
    "<i>Figure Source: LangChain Tutorials - Building a Retrieval Augmented Generation (RAG) App; URL: https://python.langchain.com/docs/tutorials/rag/#retrieval-and-generation</i>"
   ]
  },
  {
   "cell_type": "code",
   "execution_count": 23,
   "metadata": {},
   "outputs": [],
   "source": [
    "import pandas as pd\n",
    "\n",
    "from langchain_google_genai import GoogleGenerativeAIEmbeddings\n",
    "from langchain import PromptTemplate\n",
    "from langchain.document_loaders import PyPDFLoader\n",
    "from langchain.chains.question_answering import load_qa_chain\n",
    "from langchain.text_splitter import RecursiveCharacterTextSplitter\n",
    "from langchain.vectorstores import Chroma\n",
    "from langchain.chains import RetrievalQA"
   ]
  },
  {
   "cell_type": "code",
   "execution_count": 45,
   "metadata": {},
   "outputs": [
    {
     "name": "stdout",
     "output_type": "stream",
     "text": [
      "Loaded the specified document: 121 pages\n"
     ]
    }
   ],
   "source": [
    "# Load and split a PDF file\n",
    "document_path = \"../resources/document_examples/The_Evolution_and_Change_of_Building_Facades_Research_D_Turgut_Cikis.pdf\"\n",
    "document_loader = PyPDFLoader(document_path)\n",
    "document_pages = document_loader.load_and_split()\n",
    "print(f\"Loaded the specified document: {len(document_pages)} pages\")"
   ]
  },
  {
   "cell_type": "code",
   "execution_count": 47,
   "metadata": {},
   "outputs": [
    {
     "name": "stdout",
     "output_type": "stream",
     "text": [
      "10 hung on the building structure, usually from floor to floor. It can provide a variety of \n",
      "exterior appearances but characterized by narrowly spaced vertical and horizontal caps \n",
      "with glass or metal infill panels. These systems provide a finished exterior appearance \n",
      "and most often a semi-finished interior as well (Quirouette 1982). They are also \n",
      "designed to accommodate structural deflections, control wind-driven rain and leakage, \n",
      "minimize the effects of solar radiation and provide for maintenance-free long term \n",
      "performance. Most of today's metal curtain wall systems are constructed of lightweight \n",
      "aluminum, although some may be of steel.  \n",
      " \n",
      "2.2. Historical Background \n",
      " \n",
      "Even walls present in building traditions since the beginning of human \n",
      "existence, the intention of creating large openings on it was first seen in the gothic \n",
      "architecture.  But the concept of fully glazed wall developed fitfully soon after this \n",
      "period. Therefore it was an architectural idea only awaiting necessary technology to \n",
      "become a reality. According to the architectural historians who have studied on this \n",
      "field, Bath Abbey and King’s College Chapel in Britain and La Sainte Chapel in Paris \n",
      "are the first examples of this kind of façade treatments, in Figures 2.1. and 2.2.  \n",
      " \n",
      " \n",
      " \n",
      "Figure 2.1. Facade treatment of King’s Collage Chapel \n",
      "(Source: Quirouette 1982)\n"
     ]
    }
   ],
   "source": [
    "# Visualzie the contents of the 5th page of the document\n",
    "print(document_pages[20].page_content)"
   ]
  },
  {
   "cell_type": "code",
   "execution_count": 48,
   "metadata": {},
   "outputs": [
    {
     "name": "stdout",
     "output_type": "stream",
     "text": [
      "Created 32 chunks of size 8000 from the original 121 document pages.\n"
     ]
    }
   ],
   "source": [
    "# Create chunks from the loaded PDF pages\n",
    "chunk_size=8000\n",
    "chunk_overlap=1000\n",
    "\n",
    "character_splitter = RecursiveCharacterTextSplitter(chunk_size=8000, chunk_overlap=1000)\n",
    "text_chunks = character_splitter.split_text(\"\\n\\n\".join(str(page.page_content) for page in document_pages))\n",
    "print(f\"Created {len(text_chunks)} chunks of size {chunk_size} from the original {len(document_pages)} document pages.\")"
   ]
  },
  {
   "cell_type": "code",
   "execution_count": 50,
   "metadata": {},
   "outputs": [],
   "source": [
    "# Set the model that will embed the text chunks\n",
    "embeddings_model = \"models/embedding-001\"\n",
    "embeddings = GoogleGenerativeAIEmbeddings(model=embeddings_model, google_api_key=GEMINI_API_KEY)\n",
    "\n",
    "# Create a vectorstore from the text chunks, using the set model to embed them\n",
    "number_of_chunks_to_retrieve_per_query = 3\n",
    "vectorstore_retriever = Chroma.from_texts(texts=text_chunks, embedding=embeddings).as_retriever(search_kwargs={\"k\":number_of_chunks_to_retrieve_per_query})"
   ]
  },
  {
   "cell_type": "code",
   "execution_count": 51,
   "metadata": {},
   "outputs": [],
   "source": [
    "# Create a chain for prompting, retrieving chunks from the vectorstore and using them in the llm to produce an answer\n",
    "llm_qa_chain = RetrievalQA.from_chain_type(llm=llm, retriever=vectorstore_retriever, return_source_documents=True)"
   ]
  },
  {
   "cell_type": "code",
   "execution_count": 71,
   "metadata": {},
   "outputs": [],
   "source": [
    "prompt = {\n",
    "    \"query\" : \"I want to design a facade for a large residential building in a hot climate in Sourthern Europe. The aim is to maximize the energy efficiency of the building through the facade design while minimizing the weight of the facade. What type of cladding system should be used? What percentage of it should be glazed?\"\n",
    "}"
   ]
  },
  {
   "cell_type": "code",
   "execution_count": 72,
   "metadata": {},
   "outputs": [],
   "source": [
    "response = llm_qa_chain.invoke(prompt)"
   ]
  },
  {
   "cell_type": "code",
   "execution_count": 73,
   "metadata": {},
   "outputs": [
    {
     "name": "stdout",
     "output_type": "stream",
     "text": [
      "Given the requirements for a large residential building in a hot Southern European climate, aiming for energy efficiency and minimal weight, here's a breakdown of the facade design considerations:\n",
      "\n",
      "**Cladding System:**\n",
      "\n",
      "* **Ventilated Facade:** This system is ideal for hot climates. It creates an air gap between the cladding and the building's insulation, allowing for natural ventilation and reducing heat gain. \n",
      "    * **Materials:**\n",
      "        * **Lightweight Metal Panels:** Aluminum or galvanized steel panels are excellent choices due to their durability, low weight, and ability to be easily formed into various shapes.\n",
      "        * **High-Performance Ceramic Tiles:**  These offer excellent thermal insulation and can be designed to reflect solar radiation.\n",
      "        * **Composite Panels:** Combining materials like wood, metal, and insulation can create a lightweight and energy-efficient system.\n",
      "\n",
      "**Glazing Percentage:**\n",
      "\n",
      "* **Minimize Glazing:**  In a hot climate, maximizing solar heat gain through large windows is detrimental to energy efficiency. Aim for a lower glazing percentage to reduce heat load.\n",
      "* **Strategic Glazing:**  \n",
      "    * **Shading:**  Use overhangs, louvers, or brise-soleil (sunshades) to block direct sunlight during peak hours.\n",
      "    * **High-Performance Glazing:**  Employ low-emissivity (low-E) glass with coatings that reflect infrared radiation, reducing heat transfer.\n",
      "    * **Triple-Glazed Units:**  These offer superior insulation compared to single or double-glazed units.\n",
      "\n",
      "**Recommended Glazing Percentage:**\n",
      "\n",
      "* **20-30%:** This range strikes a balance between natural light and heat gain reduction. \n",
      "* **Consider Orientation:**  South-facing facades should have the lowest glazing percentage, while north-facing facades can have slightly higher glazing.\n",
      "\n",
      "**Additional Considerations:**\n",
      "\n",
      "* **Insulation:**  Proper insulation is crucial for energy efficiency. Use high-performance insulation materials within the wall cavity.\n",
      "* **Solar Control:**  Incorporate passive solar design elements like overhangs, trees, and vegetation to shade the building and reduce heat gain.\n",
      "* **Ventilation:**  Ensure adequate ventilation to prevent overheating and maintain comfortable indoor temperatures.\n",
      "\n",
      "**Example Facade Design:**\n",
      "\n",
      "* **Ventilated Facade:**  Use lightweight aluminum panels with a high-performance ceramic tile accent wall.\n",
      "* **Glazing:**  25% glazing with triple-glazed low-E windows strategically placed on north-facing facades.\n",
      "* **Shading:**  Implement overhangs and brise-soleil on south-facing facades.\n",
      "\n",
      "**Remember:**  Consult with a qualified architect and engineer to ensure the facade design meets local building codes and energy efficiency standards. \n",
      "\n"
     ]
    }
   ],
   "source": [
    "print(response[\"result\"])"
   ]
  },
  {
   "cell_type": "code",
   "execution_count": 83,
   "metadata": {},
   "outputs": [
    {
     "name": "stdout",
     "output_type": "stream",
     "text": [
      "51 appearance. Zinc panels should be well in ventilated on the on the non-exposed \n",
      "surfaces. Water from condensation or leaking can dissolve the metal relatively quickly.  \n",
      "C. Titanium is also a popular but costly material, which is rarely used in \n",
      "distinguished example of architecture. But because of the cost factor it doesn’t used \n",
      "commercially in industrialized cladding system. \n",
      " \n",
      "2.5.2. Transparent Curtain Walls \n",
      " \n",
      "The very first material evocation of curtain wall is glass. As it is known glass is \n",
      "one of the most common and also one of the oldest building materials. Its feature and \n",
      "material properties are developed during the course of history. Today it is possible to \n",
      "find different types of glass that is produced for specific needs in building market. But \n",
      "according to Wiggenton, The development in glass enormous but they are concentrated \n",
      "on finishes and coatings, and gases for insulated units, and small manipulations on float \n",
      "glass. Spurred by energy concerns, aesthetics and safety concerns, much invention \n",
      "continues to occur within these areas. Beside these, further expectations from glass are; \n",
      "non reflectivity, minimizing heat transfer, resisting on impacts, control over elusiveness, \n",
      "and clearance.  \n",
      "Glass can be annealed; heat strengthened such that its bending strength is double \n",
      "that of annealed, with four times the bending strength of annealed glass of the same size \n",
      "and the thickness. These types can than be laminated with a plastic film between two \n",
      "lites for safety reason or increased sound resistance. Lamination is also used to protect \n",
      "coating. Insulations units of two or more units held apart with a spacer usually of \n",
      "aluminum or stainless steel, increase thermal resistance.  The spacer contains a \n",
      "desiccant to keep the air space free of visible moisture. A single or double seal around \n",
      "the unit insures the space is hermetically sealed. Warm-edge technology recognizes the \n",
      "advantages of lower thermal conductance at the edge of insulating units by using low-\n",
      "conductance spacers. This not only decreases heat loss but helps control condensation \n",
      "(Brock 2005).  \n",
      "One of the best glass types is float glass. Light transmittance ratio is very high in \n",
      "float glass. For example 75-92 percent of visible light can pass on, depending on the \n",
      "thickness and the composition of the glass. Float glass usually have a greenish tint \n",
      "expect low-iron glass is specified. Beside this tint different colors are available in the\n",
      "\n",
      "52 markets; such as bronze, gray dark gray, aquamarine, green, deep green, blue and black. \n",
      "Tinting absorbs and in that way reduces diminish solar transmittance. \n",
      "Coatings have very important function on improving material quality of glass. \n",
      "By using coating on the surface of the glass, absorption, reflection, and radiation of \n",
      "solar energy can be reduced. The most common coatings are solar reflective glass, and \n",
      "low-emissive glass. Reflective coatings are in silver, blue gold and copper colors. Other \n",
      "type of glass is low-energy glass. This glass reflects long wave, infrared energy. Some \n",
      "coatings are also reflective of the whole infrared spectrum. Depending on the climate, \n",
      "coatings by reducing heating ventilation and air conditioning (HVAC) expenditure \n",
      "provide large amount of energy savings.  Selection of appropriate coating on the correct \n",
      "surface is depends on the climate. \n",
      "A glass cladding system may be designed to be outside glazed, which means that \n",
      "glass must be installed or replaced by workers standing on scaffolding or staging \n",
      "outside the building. Cladding system may also be designed to be inside glazed by \n",
      "workers who stand inside the building. Replacement of glass may also be done from \n",
      "within the building. Inside glazing is more efficient and common in high rise buildings, \n",
      "but it also require more elaborate set of extrusions. Whereas, relatively simple set of \n",
      "extrusions are used on “outside glazing systems”. The system is cheaper than inside \n",
      "glazed systems especially for the buildings with two or three stories tall buildings whose \n",
      "walls workers can easily reach from external scaffolding.   \n",
      "One of the distinguishing features of glass claddings is the problem of rain \n",
      "penetration in between the panels or frames. That’s why; both rubber gaskets to seal \n",
      "around the glass are to be considered precisely. If the inner and outer gaskets around a \n",
      "light of glass is defective many problems occurs. This can happen as a result of the wind \n",
      "driven-rain or capillary action. The water that passes from the outer gasket into the \n",
      "space between the edges of the glass and aluminum can damage the skeletal frame of \n",
      "the cladding and materials inside. For example if water has leaked in along a vertical \n",
      "edge of the glass, it is contained within   the vertical mullion and will fall by gravity to \n",
      "the bottom, where it drains out through weep halls.  If water accumulates in horizontal \n",
      "mullion, it is prevented from running out of the ends of the mullion by rubber end plugs, \n",
      "which are seen in the Figure 2.26.\n",
      "\n",
      "53 \n",
      " \n",
      " \n",
      "Figure 2.26. An example of outside glazed stick system \n",
      "(Source: Allen 2005) \n",
      " \n",
      "In glass claddings the entire system works as a rainscreen assembly. In practice \n",
      "however, the responsibility to take every precaution to prevent passage of water is \n",
      "belongs to the installers and manufacturers and they are to assure that the outer gaskets \n",
      "are properly installed.   \n",
      "Another important issue of glass cladding systems is “expansion joints” Because \n",
      "of the different behavior pattern of metal frame and glass, expansion joints become an \n",
      "important detail problem to solve. As it is very well known, thermal expansion \n",
      "coefficient of metal which is used in the frame of cladding systems is higher than glass. \n",
      "For example, the coefficient for glass is less than half as much of aluminum. As the \n",
      "building façade exposed to direct heating by the sun, it is necessary to provide \n",
      "expansion joints to allow thermal movement to occur without damaging the cladding or \n",
      "the frame.  \n",
      "The difference in thermal movement between glass and aluminum are generally \n",
      "accommodated by very small sliding and flexing motions that occur between the glass\n",
      "\n",
      "54 and the gaskets in which it is mounted figure 2.27. Rubber blocks placed between the \n",
      "edge of the glass and the mullion on either side of each light prevent the glass \n",
      "“walking” too far in either direction during repeated cycles of heating and cooling \n",
      "(Allen 2005). In the next drawing, vertical thermal movement in the aluminum is \n",
      "absorbed by telescopic joints that are provided at regular intervals in the vertical \n",
      "mullions. Horizontal thermal movement is accommodated by intentionally cutting \n",
      "horizontal aluminum components slightly short by a calculated fraction of 2cm at each \n",
      "vertical mullion.  \n",
      " \n",
      " \n",
      " \n",
      "Figure 2.27. Vertical joints between Aluminum panel system \n",
      "(Source: Allen 2005)\n",
      "vi TABLE OF CONTENTS \n",
      " \n",
      "LIST OF FIGURES.......................................................................................................viii \n",
      " \n",
      "CHAPTER  1.  INTRODUCTION..................................................................................1 \n",
      "1.1.  Problem Definition..............................................................................2 \n",
      "1.2.  Scope of the Study...............................................................................5 \n",
      "1.3.  Method of the Study............................................................................6 \n",
      "1.4.  Structure of the Study..........................................................................6 \n",
      " \n",
      "CHAPTER  2.  FAÇADE CLADDING SYSTEMS........................................................8 \n",
      "2.1.  Definitions ..........................................................................................8 \n",
      "2.2.  Historical Background.......................................................................10 \n",
      "2.3.  Design Principles of Façade Claddings.............................................19 \n",
      "2.3.1.  Control of Air Flow......................................................................20 \n",
      "2.3.2.  Control of Heat Flow....................................................................21 \n",
      "2.3.3.  Control over the Entry of Rain and Snow....................................22 \n",
      "2.3.4.  Control of Sunlight and other Form of Radiant Energy...............24 \n",
      "2.3.5.  Control of Vapor Diffusion..........................................................25 \n",
      "2.3.6.  Accommodation of Building Movements....................................26 \n",
      "2.4.  Moods of Assembly of Façade Claddings.........................................28 \n",
      "2.4.1.  Stick System.................................................................................29 \n",
      "2.4.1.  Unit System..................................................................................31 \n",
      "2.4.3.  Unit and Mullion System.............................................................33 \n",
      "2.4.4.  Panel System................................................................................34 \n",
      "2.4.5.  Column Cover and Spandrel System...........................................35 \n",
      "2.4.5.  Structural Glazing System............................................................36 \n",
      "2.5.  Materials in Cladding.........................................................................37 \n",
      "2.5.1.  Opaque Curtain Walls..................................................................37 \n",
      "2.5.1.1.  Stone and Artificial Stone....................................................38 \n",
      "2.5.1.2.  Concrete Panels...................................................................39 \n",
      "2.5.1.3.  Terra-Cotta Ceramic Panels.................................................44 \n",
      "2.5.1.3.  Metal Panels........................................................................48\n",
      "\n",
      "vii 2.5.2.  Transparent Curtain Walls...........................................................51 \n",
      " \n",
      "CHAPTER  3. DESIGN AND CONSTRUCTION WITH DIGITAL \n",
      "TECHNOLOGIES................................................................................55 \n",
      "3.1.  Digital Applications in Design..........................................................55 \n",
      "3.1.1.  General Definitions and Functions of Design Tools....................56 \n",
      "3.1.1.1.  Symbolic Design Tools.......................................................59 \n",
      "3.1.1.2.  Analog Design Tools...........................................................61 \n",
      "3.1.1.3.  Digital Design Tools............................................................62 \n",
      "3.1.1.1.1.  Object Based (CAD and CAAD) Programs in \n",
      "Design.....................................................................63 \n",
      "3.1.1.1.2.  Solid Modeling and Animation Programs in \n",
      "Design.....................................................................64 \n",
      "3.2.  Digital Fabrication and Rapid Manufacturing in Construction.........67 \n",
      "3.2.1.  Digital Fabrication Methods.........................................................68 \n",
      "3.2.1.1.  Cutting Methods (Lateral Countering)................................70 \n",
      "3.2.1.2.  Subtractive Fabrication........................................................71 \n",
      "3.2.1.3.  Additive Fabrication............................................................74 \n",
      "3.2.1.4.  Formative Fabrication..........................................................76 \n",
      "3.2.2.  Digital Fabrication and Rapid Manufacturing in \n",
      "Construction Sector......................................................................76 \n",
      "3.2.2.1.  Digital Cladding and Surface Treatments ..........................83 \n",
      " \n",
      "CHAPTER   4.  CASE STUDY......................................................................................88 \n",
      "4.1.  Definition of the Selected Project......................................................88 \n",
      "4.2.  Restrictions and Objective.................................................................93 \n",
      "4.3.  Development of Cladding Design......................................................95 \n",
      "4.3.1.  Material and Production Process Selection..................................97 \n",
      "4.3.1.1.  Material Selection................................................................97 \n",
      "4.3.1.2.  Process Design...................................................................101 \n",
      "4.4.  Design..............................................................................................102 \n",
      "4.4.1.  Composite Design......................................................................102 \n",
      "4.4.2.  Moulding Design........................................................................104\n",
      "\n",
      "viii CHAPTER  5.  CONCLUSION...................................................................................106 \n",
      " \n",
      "REFERANCES .............................................................................................................107\n",
      "8 CHAPTER 2 \n",
      " \n",
      "FAÇADE CLADDING SYSTEMS \n",
      " \n",
      "2.1. Definitions  \n",
      " \n",
      "Creating an enclosure to mediate the environment is one of the basic needs of \n",
      "human being. Protection against excessive climatic conditions, natural disasters or other \n",
      "humans or animals are the primary incentive of this need. Starting from this point on, it \n",
      "can be stated that, the major purpose of cladding is to separate the indoor environment \n",
      "from the outdoors in such a way that indoor environment conditions can be maintained \n",
      "at level suitable for the buildings intended use.  Therefore from the functional point of \n",
      "view it can be defined as, the part of the building that is non load bearing exterior wall \n",
      "that must defend the interior spaces against invasion by water, wind, sun, light, heat and \n",
      "cold, and all the other forces of nature. Besides this it must also fulfill the aesthetic, \n",
      "economic and security considerations. Because of these reasons its design is an intricate \n",
      "process that merges the art, science and craft to solve a very long and difficult list of \n",
      "problems.  The design of the building façade has become much more complicated with \n",
      "development of new methods of construction, the requirements for a highly controlled \n",
      "interior environments, stress on energy efficiency, advent of materials and new \n",
      "production methods. As a measure of responsibility on the part of architects the \n",
      "envelope needs to be well designed. \n",
      "The terms, cladding and curtain wall are sometimes confusing in the technical \n",
      "literature. Even in technical dictionaries the terms cladding and curtain wall are defined \n",
      "with similar properties i.e. non- load bearing wall of a skeleton frame (Osterle 2003). \n",
      "made a distinction between solid and transparent facades. According to them, the non-\n",
      "transparent area of the façade will be thermally insulated and then rendered or finished \n",
      "with modern cladding systems. The cladding with a ventilated cavity to the rear is fixed \n",
      "with carcass structure. Stone is one of the cladding materials used for these non –\n",
      "transparent facades. According to the definition of curtain wall by Osterle, the curtain \n",
      "wall is separated from the structure and its structure, suspended between the floors of \n",
      "the buildings and façade elements can be prefabricated. The type of infill material is not \n",
      "important in most of the definitions (Schaupp 1967). explained the development of\n",
      "\n",
      "9 stone facades with stone adhered to the back structure to ventilated walls and he named \n",
      "this ventilated stone wall as a curtain wall, but this should be called as stone cladding \n",
      "since there is a direct connection of the stone panels to the backup wall (Musaa\u0004ao\u0004lu \n",
      "2005).  \n",
      "But in most common sense the cladding wall is described as “the finish covering \n",
      "of an exterior wall of frame building; the siding may be cladding material such as wood, \n",
      "aluminum or asbestos cement (but not masonry) applied vertically or horizontally” in \n",
      "the dictionary of architecture and construction, prepared by Harris (Harris 1993).  \n",
      "According to Linda Brock however, the term cladding denotes the visible materials on \n",
      "the exterior of the wall. Cladding act as the primary whether barrier, and as such they \n",
      "are sometimes called a rain screen. Some claddings such as insulated glass units \n",
      "perform all of the walls functions (Brock 2005). \n",
      "Allen also unites the concepts of curtain walls and cladding walls. According to \n",
      "her, the name “curtain wall” drives from the idea that the wall is thin and “hangs” like a \n",
      "curtain on the structural frame (Most of curtain wall panels do not actually hang in \n",
      "tension from the frame, but supported from the bottom at each floor level) The earliest \n",
      "curtain walls were constructed of masonry The principle advantage of the curtain wall is \n",
      "that because it bears no vertical load, it can be thin and light in weight regardless of the \n",
      "height of the building, as compared to a masonry load bearing wall, which may be \n",
      "become prohibitively thick and weighty at the base of a very tall building (Allen 2004).  \n",
      "But most of the definition is made in relations to the structure of the building. \n",
      "For example; according to Ochshorn, the curtain wall is defined in terms of its \n",
      "functional relationship to the building's structure. It then refers to the cladding, or \n",
      "enclosure, of a building as something both separate from and attached to the building's \n",
      "skeletal framework (Ochshorn 2003). Where load bearing walls provide both structure \n",
      "and enclosure, there can be no curtain wall. But difficulties emerge within this \n",
      "definition when the question of \"infill\" is considered: are conventional windows (or \n",
      "other infill material), when fixed inside the boundaries of a structural frame, considered \n",
      "to represent curtain wall construction? Such construction is certainly \"attached\" to the \n",
      "structural frame, but not exactly \"hanging\" from it. When is a window just a window \n",
      "within a frame, and when does it transform into a curtain wall? The answer may have \n",
      "more to do with one's aesthetic bias than with the actual functional relationship between \n",
      "cladding and structure. Another and more comprehensive definition of the curtain wall \n",
      "is made by Quirouette; a curtain wall system is a lightweight exterior cladding which is\n",
      "\n",
      "10 hung on the building structure, usually from floor to floor. It can provide a variety of \n",
      "exterior appearances but characterized by narrowly spaced vertical and horizontal caps \n",
      "with glass or metal infill panels. These systems provide a finished exterior appearance \n",
      "and most often a semi-finished interior as well (Quirouette 1982). They are also \n",
      "designed to accommodate structural deflections, control wind-driven rain and leakage, \n",
      "minimize the effects of solar radiation and provide for maintenance-free long term \n",
      "performance. Most of today's metal curtain wall systems are constructed of lightweight \n",
      "aluminum, although some may be of steel.  \n",
      " \n",
      "2.2. Historical Background \n",
      " \n",
      "Even walls present in building traditions since the beginning of human \n",
      "existence, the intention of creating large openings on it was first seen in the gothic \n",
      "architecture.  But the concept of fully glazed wall developed fitfully soon after this \n",
      "period. Therefore it was an architectural idea only awaiting necessary technology to \n",
      "become a reality. According to the architectural historians who have studied on this \n",
      "field, Bath Abbey and King’s College Chapel in Britain and La Sainte Chapel in Paris \n",
      "are the first examples of this kind of façade treatments, in Figures 2.1. and 2.2.  \n",
      " \n",
      " \n",
      " \n",
      "Figure 2.1. Facade treatment of King’s Collage Chapel \n",
      "(Source: Quirouette 1982)\n",
      "\n",
      "11 \n",
      " \n",
      " \n",
      "Figure 2.2. Treatment of La Sainte Chapel in Paris \n",
      "(Source: Quirouette 1982) \n",
      " \n",
      " \n",
      "In tree of these buildings, the windows were enlarged to the point of forming \n",
      "virtually the entire wall that was not needed for roof support. During the sixteenth \n",
      "century of England, large areas of glass brought into the design concepts, especially in \n",
      "mansions.  Bess of Hardwick House is one of the most well-known examples of this \n",
      "attitude.  The use of large windows in this building is appropriate to the logic of \n",
      "cladding walls. This building is one of the earliest examples of the curtain walls.  \n",
      " \n",
      " \n",
      " \n",
      "Figure 2.3. Bess of Harwick Mansion, large window openings from ceiling to floor         \n",
      "occupies the function of cladding wall (Source: Quirouette 1982).\n"
     ]
    }
   ],
   "source": [
    "# The specific data from the document that was used to generate the prompt can be retrieved from the response\n",
    "print(\"\\n\".join([document.page_content for document in response[\"source_documents\"]]))"
   ]
  },
  {
   "cell_type": "markdown",
   "metadata": {},
   "source": [
    "### Returning structured output"
   ]
  },
  {
   "cell_type": "markdown",
   "metadata": {},
   "source": [
    "In order to ensure that the model response is compatible with the continuation of the application pipeline, [a specific output structure can be imposed](https://python.langchain.com/docs/how_to/structured_output/) - such as Pydantic classes, JSON schemas or custom definitions."
   ]
  },
  {
   "cell_type": "code",
   "execution_count": 84,
   "metadata": {},
   "outputs": [],
   "source": [
    "from typing import Optional\n",
    "from pydantic import BaseModel, Field"
   ]
  },
  {
   "cell_type": "code",
   "execution_count": 85,
   "metadata": {},
   "outputs": [],
   "source": [
    "# Create a Pydantic class to enforce the structure of the model's response\n",
    "class FacadeSpecifications(BaseModel):\n",
    "    \"\"\"The facade specifications recommended by the LLM in accordance with the provided documentation.\"\"\"\n",
    "    \n",
    "    cladding_system: str = Field(description=\"The cladding system of the building.\")\n",
    "    glazing_system: str = Field(description=\"The glazing system of the building.\")\n",
    "    predominant_material: str = Field(description=\"The predominant cladding material in the facade.\")\n",
    "    glazing_percentage: int = Field(description=\"The percentage of the facade that should be comprised of glazing.\")\n"
   ]
  },
  {
   "cell_type": "code",
   "execution_count": null,
   "metadata": {},
   "outputs": [],
   "source": [
    "# USE THIS RESOURCE TO CREATE STRUCTURED OUTPUTS: https://stackoverflow.com/questions/76822673/langchain-querying-a-document-and-getting-structured-output-using-pydantic-with"
   ]
  }
 ],
 "metadata": {
  "kernelspec": {
   "display_name": "py310llm",
   "language": "python",
   "name": "python3"
  },
  "language_info": {
   "codemirror_mode": {
    "name": "ipython",
    "version": 3
   },
   "file_extension": ".py",
   "mimetype": "text/x-python",
   "name": "python",
   "nbconvert_exporter": "python",
   "pygments_lexer": "ipython3",
   "version": "3.10.15"
  }
 },
 "nbformat": 4,
 "nbformat_minor": 2
}
