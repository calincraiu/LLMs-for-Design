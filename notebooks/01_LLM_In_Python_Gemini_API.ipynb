{
 "cells": [
  {
   "cell_type": "markdown",
   "metadata": {},
   "source": [
    "# Using LLMs in Python"
   ]
  },
  {
   "cell_type": "markdown",
   "metadata": {},
   "source": []
  },
  {
   "cell_type": "code",
   "execution_count": 2,
   "metadata": {},
   "outputs": [],
   "source": [
    "import os\n",
    "\n",
    "import dotenv\n",
    "import PIL.Image\n",
    "\n",
    "import google.generativeai as genai"
   ]
  },
  {
   "cell_type": "code",
   "execution_count": 3,
   "metadata": {},
   "outputs": [
    {
     "name": "stdout",
     "output_type": "stream",
     "text": [
      "Loaded environment variables.\n"
     ]
    }
   ],
   "source": [
    "loaded: bool = dotenv.load_dotenv()\n",
    "print(\"Loaded environment variables.\" if loaded else \"Could not load environment variables.\")"
   ]
  },
  {
   "cell_type": "code",
   "execution_count": 7,
   "metadata": {},
   "outputs": [],
   "source": [
    "GEMINI_API_KEY = os.getenv('GEMINI_API_KEY')\n",
    "genai.configure(api_key=GEMINI_API_KEY)"
   ]
  },
  {
   "cell_type": "code",
   "execution_count": 14,
   "metadata": {},
   "outputs": [
    {
     "name": "stdout",
     "output_type": "stream",
     "text": [
      "Model name: models/gemini-1.5-flash\n",
      "Model version: 001\n",
      "Input token limit: 1000000\n",
      "Output token limit: 8192\n"
     ]
    }
   ],
   "source": [
    "model_version = 'models/gemini-1.5-flash'\n",
    "model = genai.GenerativeModel(model_version)\n",
    "model_info = genai.get_model(model_version)\n",
    "print(f\"Model name: {model_info.name}\\nModel version: {model_info.version}\\nInput token limit: {model_info.input_token_limit}\\nOutput token limit: {model_info.output_token_limit}\")"
   ]
  },
  {
   "cell_type": "code",
   "execution_count": 15,
   "metadata": {},
   "outputs": [
    {
     "data": {
      "text/plain": [
       "total_tokens: 9"
      ]
     },
     "execution_count": 15,
     "metadata": {},
     "output_type": "execute_result"
    }
   ],
   "source": [
    "# Counting tokens\n",
    "prompt = \"I want to design a modular apartment building.\"\n",
    "model.count_tokens(prompt)"
   ]
  },
  {
   "cell_type": "code",
   "execution_count": 16,
   "metadata": {},
   "outputs": [
    {
     "name": "stdout",
     "output_type": "stream",
     "text": [
      "That's a great idea! Designing a modular apartment building offers several advantages, including faster construction, cost-effectiveness, and flexibility. Here's a breakdown to help you get started:\n",
      "\n",
      "**1. Define Your Target Audience and Goals:**\n",
      "\n",
      "* **Who are you building for?**  Students, young professionals, families, seniors? Understanding your target market will help you define the building's size, amenities, and layout.\n",
      "* **What are your design goals?** Sustainability, affordability, modern design, community building?\n",
      "* **What are your budget constraints?**  Modular construction can be cost-effective, but you'll need to set a realistic budget.\n",
      "\n",
      "**2.  Modular Building Systems:**\n",
      "\n",
      "* **Choose a System:**  Research different modular building systems. Some popular options include:\n",
      "    * **Pre-fabricated modules:**  Entire units are built off-site and shipped to the site for assembly.\n",
      "    * **Panelized construction:** Large panels containing walls, floors, and ceilings are assembled on-site.\n",
      "    * **Hybrid systems:** Combine prefabricated components with site construction.\n",
      "* **Consider the Advantages and Disadvantages:**\n",
      "    * **Advantages:** Faster construction, cost-effectiveness, controlled environment for manufacturing, design flexibility.\n",
      "    * **Disadvantages:** Potential transport challenges, site preparation requirements, design limitations due to modularity.\n",
      "\n",
      "**3.  Apartment Unit Design:**\n",
      "\n",
      "* **Layout Options:** Consider different floor plans and layouts to accommodate diverse needs.\n",
      "    * **Studio apartments:** Ideal for singles or couples.\n",
      "    * **One-bedroom apartments:**  Suitable for small families or individuals.\n",
      "    * **Two-bedroom apartments:** Great for families or roommates.\n",
      "* **Amenities:**  Offer essential amenities like kitchens, bathrooms, and laundry facilities. \n",
      "* **Sustainable Features:**  Incorporate energy-efficient appliances, renewable energy sources (solar panels), and water-saving fixtures. \n",
      "\n",
      "**4.  Building Design:**\n",
      "\n",
      "* **Exterior:**  \n",
      "    * **Materials:**  Choose durable and low-maintenance materials like brick, metal panels, or wood.\n",
      "    * **Aesthetics:**  Consider modern, contemporary, or traditional architectural styles.\n",
      "    * **Window Design:**  Large windows for natural light and views.\n",
      "* **Interior:** \n",
      "    * **Common areas:**  Design attractive lobbies, community rooms, and outdoor spaces. \n",
      "    * **Accessibility:**  Ensure the building is accessible for people with disabilities.\n",
      "\n",
      "**5.  Sustainability Considerations:**\n",
      "\n",
      "* **Energy Efficiency:**  Minimize energy consumption through insulation, efficient HVAC systems, and renewable energy sources.\n",
      "* **Water Conservation:**  Install low-flow fixtures, rainwater harvesting systems, and water-efficient landscaping.\n",
      "* **Waste Reduction:**  Incorporate waste recycling and composting programs.\n",
      "\n",
      "**6.  Technology Integration:**\n",
      "\n",
      "* **Smart Home Features:**  Consider incorporating smart home technologies like automated lighting, thermostats, and security systems.\n",
      "* **Internet Connectivity:**  Provide high-speed internet access for residents.\n",
      "* **Building Management Systems:**  Use technology to monitor and manage building systems for efficiency and safety.\n",
      "\n",
      "**7.  Community Building:**\n",
      "\n",
      "* **Social Spaces:**  Design common areas that encourage interaction among residents.\n",
      "* **Community Events:**  Host events and activities to foster a sense of community.\n",
      "* **Resident Services:**  Offer amenities and services that enhance residents' lives.\n",
      "\n",
      "**8.  Construction and Management:**\n",
      "\n",
      "* **Construction Process:**  Work closely with a reputable modular construction company.\n",
      "* **Building Codes and Regulations:**  Ensure compliance with all relevant building codes and regulations.\n",
      "* **Property Management:**  Develop a comprehensive property management plan to ensure efficient operation and resident satisfaction.\n",
      "\n",
      "**Additional Tips:**\n",
      "\n",
      "* **Conduct thorough research and site analysis.**\n",
      "* **Consult with architects, engineers, and construction professionals.**\n",
      "* **Get feedback from potential residents.**\n",
      "* **Stay updated on the latest trends in modular construction.**\n",
      "\n",
      "Remember, designing a modular apartment building is a complex process that requires careful planning and execution. By following these steps, you can create a successful and innovative project.\n"
     ]
    }
   ],
   "source": [
    "# Prompting\n",
    "response = model.generate_content(prompt)\n",
    "print(response.text)"
   ]
  },
  {
   "cell_type": "code",
   "execution_count": null,
   "metadata": {},
   "outputs": [],
   "source": []
  }
 ],
 "metadata": {
  "kernelspec": {
   "display_name": "py310llm",
   "language": "python",
   "name": "python3"
  },
  "language_info": {
   "codemirror_mode": {
    "name": "ipython",
    "version": 3
   },
   "file_extension": ".py",
   "mimetype": "text/x-python",
   "name": "python",
   "nbconvert_exporter": "python",
   "pygments_lexer": "ipython3",
   "version": "3.10.15"
  }
 },
 "nbformat": 4,
 "nbformat_minor": 2
}
